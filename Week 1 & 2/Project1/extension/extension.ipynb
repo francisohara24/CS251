{
 "cells": [
  {
   "metadata": {},
   "cell_type": "markdown",
   "source": [
    "**Francis O'Hara Aidoo**\n",
    "\n",
    "Fall 2024\n",
    "\n",
    "CS 251/2: Data Analysis and Visualization\n",
    "\n",
    "Project 1: Data Analysis and Visualization (Extension)\n",
    "\n",
    "For my extension, I decided to upgrade the implementation of the Data class to allow support for the following types of variables:\n",
    "1. Date variables\n",
    "2. String variables\n",
    "\n",
    "Each date variable was stored in the underlying numpy array in the Data class as np.datetime64() objects.  \n",
    "Dates must be in [ISO 8601 format](https://www.iso.org/iso-8601-date-and-time-format.html) to be recognized and parsed correctly into the Data class.  \n",
    "The following code snippet demonstrates that the data class is now able to parse \n"
   ],
   "id": "cb97c718df24a373"
  },
  {
   "cell_type": "code",
   "id": "initial_id",
   "metadata": {
    "collapsed": true,
    "ExecuteTime": {
     "end_time": "2024-09-23T03:44:38.152878Z",
     "start_time": "2024-09-23T03:44:38.146822Z"
    }
   },
   "source": [
    "import numpy as np\n",
    "from data_extension import Data\n",
    "\n",
    "data = Data(\"date_and_string_containing.csv\")\n",
    "print(data)"
   ],
   "outputs": [
    {
     "name": "stdout",
     "output_type": "stream",
     "text": [
      "  a_number    a_date    a_string  \n",
      "----------------------------------\n",
      " 0.0  2024-09-20  Hydrogen  \n",
      " 1.0  2025-09-23  Helium    \n",
      " 2.0  2026-09-26  Lithium   \n",
      " 3.0  2027-09-29  Beryllium \n",
      "\n"
     ]
    }
   ],
   "execution_count": 3
  }
 ],
 "metadata": {
  "kernelspec": {
   "display_name": "Python 3",
   "language": "python",
   "name": "python3"
  },
  "language_info": {
   "codemirror_mode": {
    "name": "ipython",
    "version": 2
   },
   "file_extension": ".py",
   "mimetype": "text/x-python",
   "name": "python",
   "nbconvert_exporter": "python",
   "pygments_lexer": "ipython2",
   "version": "2.7.6"
  }
 },
 "nbformat": 4,
 "nbformat_minor": 5
}
