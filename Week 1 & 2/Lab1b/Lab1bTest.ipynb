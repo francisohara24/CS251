{
 "cells": [
  {
   "metadata": {},
   "cell_type": "markdown",
   "source": "## Hello World",
   "id": "593da1389733b04d"
  },
  {
   "metadata": {
    "ExecuteTime": {
     "end_time": "2024-09-12T17:17:39.427272Z",
     "start_time": "2024-09-12T17:17:39.418787Z"
    }
   },
   "cell_type": "code",
   "source": "print(\"Hello World\")",
   "id": "6a0cca5a6ce854af",
   "outputs": [
    {
     "name": "stdout",
     "output_type": "stream",
     "text": [
      "Hello World\n"
     ]
    }
   ],
   "execution_count": 1
  },
  {
   "metadata": {},
   "cell_type": "code",
   "outputs": [],
   "execution_count": null,
   "source": "",
   "id": "ca96428e40200dff"
  }
 ],
 "metadata": {
  "kernelspec": {
   "display_name": "Python 3",
   "language": "python",
   "name": "python3"
  },
  "language_info": {
   "codemirror_mode": {
    "name": "ipython",
    "version": 2
   },
   "file_extension": ".py",
   "mimetype": "text/x-python",
   "name": "python",
   "nbconvert_exporter": "python",
   "pygments_lexer": "ipython2",
   "version": "2.7.6"
  }
 },
 "nbformat": 4,
 "nbformat_minor": 5
}
