{
 "cells": [
  {
   "cell_type": "markdown",
   "metadata": {
    "id": "-8oitJbldxFp"
   },
   "source": [
    "\n",
    "\n",
    "```\n",
    "# This is formatted as code\n",
    "```\n",
    "\n",
    "**Francis O'Hara**\n",
    "\n",
    "Fall 2024\n",
    "\n",
    "CS 251: Data Analysis and Visualization"
   ]
  },
  {
   "cell_type": "code",
   "execution_count": null,
   "metadata": {
    "id": "qtkGbJz8dxFt"
   },
   "outputs": [],
   "source": [
    "import numpy as np\n",
    "import matplotlib.pyplot as plt\n",
    "\n",
    "plt.style.use(['seaborn-v0_8-colorblind', 'seaborn-v0_8-darkgrid'])\n",
    "plt.show()\n",
    "plt.rcParams.update({'font.size': 14})\n",
    "\n",
    "np.set_printoptions(suppress=True, precision=5)\n",
    "\n",
    "# Automatically reload external modules\n",
    "%load_ext autoreload\n",
    "%autoreload 2"
   ]
  },
  {
   "cell_type": "markdown",
   "metadata": {
    "id": "lGH9I8QJdxFv"
   },
   "source": [
    "# Project 2 | Categorical and Exploratory Data Analysis"
   ]
  },
  {
   "cell_type": "markdown",
   "metadata": {
    "id": "ThTNQIUXdxFv"
   },
   "source": [
    "## Task 0: Get set up\n",
    "\n",
    "### 0a. Download and copy files\n",
    "1. Copy over your `data.py` and `analysis.py` files from Project 1 into your Project 2 working directory.\n",
    "2. Download the Project 2 code templates (`categorical_data.py` and `categorical_analysis.py`) into your Project 2 working directory.\n",
    "3. Create a subfolder called `data` and download the Austin Pet Dataset (`austin_pet.csv`) and `test_data_mixed.csv` to your working directory.\n",
    "4. Copy `charts.py` from Lab 2 into your Project 2 folder.\n",
    "\n",
    "**NOTE:** If you did not add support for missing data in your `Data` class, download `austin_pet_no_missing.csv` instead of `austin_pet.csv`."
   ]
  },
  {
   "cell_type": "markdown",
   "metadata": {
    "id": "dYQQRfs-dxFw"
   },
   "source": [
    "### 0b. Questions\n",
    "\n",
    "**Question 1:** Open `austin_pet.csv` in a text editor and examine the Austin Pet dataset. Name and briefly explain two reasons why data may be missing."
   ]
  },
  {
   "cell_type": "markdown",
   "metadata": {
    "id": "17PxsyupdxFw"
   },
   "source": [
    "**Answer 1:**  \n",
    "1. Certain variables in a dataset are sometimes updated in real-time as events occur. Hence, one possible cause of missing data is that a variable may be tracking the occurrence of a real-world event that may not have occurred yet.\n",
    "2. Sometimes a lot of information may be known about some of the observations in the dataset while very little is known about other observations in the dataset, and for observations where nothing is known about a particular variable's value for that observation, it will be represented as missing data. For example, regarding the in_age column in the austin_pet dataset, it is possible that for some animals, their age was not known at the time they were brought into the shelter and hence their in_age column value was represented as missing data."
   ]
  },
  {
   "cell_type": "markdown",
   "metadata": {
    "id": "Ile7ReD_dxFw"
   },
   "source": [
    "## Task 1: Techniques for exploratory data analysis that leverage categorical data\n",
    "\n",
    "The Austin Pet Dataset contains mostly **categorical data variables**. In this task, your goal is to implement and test some helpful methods for working with categorical variables and their levels. We will focus on 2 techniques for performing exploratory data analysis that involve categorical data:\n",
    "1. computing the number of samples that have different levels of specific categorical variables of interest.\n",
    "2. filtering a dataset based on the level of a categorical variable.\n",
    "\n",
    "Before applying your tools to analyze the Austin Pet Dataset, as is usally a good idea, you will test your code on smaller and simpler test datasets (`test_data_mixed.csv` and `iris.csv`) to help verify that everything works."
   ]
  },
  {
   "cell_type": "markdown",
   "metadata": {
    "id": "QdUamiQjdxFx"
   },
   "source": [
    "### 1a. Helper methods to convert between string and numeric categorical variable level representations\n",
    "\n",
    "Recall that the `self.data` 2D ndarray in your `Data` class contains numeric representations of categorical variables. For example, you may store the float `0.0` for the `Dog` level of the variable `animal_type`, `1.0` for the `Cat` level, etc. The mapping between the numeric and string representations is stored separately from the `self.data` ndarray (i.e. as the `self.cats2levels` dictionary).\n",
    "\n",
    "Implement the following helper methods of the `CatData` class in `categorical_data.py` that convert between the numeric and string representation of each categorical variable level.\n",
    "- `get_cat_levels_str(self, header)`\n",
    "- `get_cat_levels_int(self, header)`\n",
    "- `int2strlevels(self, header, int_levels)`\n",
    "- `str2intlevels(self, header, str_levels)`\n",
    "\n",
    "Use the code below to test your code."
   ]
  },
  {
   "cell_type": "code",
   "execution_count": null,
   "metadata": {
    "id": "gcUqE2W4dxFx"
   },
   "outputs": [],
   "source": [
    "from categorical_data import CatData"
   ]
  },
  {
   "cell_type": "code",
   "execution_count": null,
   "metadata": {
    "id": "PgBR2oiodxFx"
   },
   "outputs": [],
   "source": [
    "d_test = CatData(filepath='data/test_data_mixed.csv')"
   ]
  },
  {
   "cell_type": "markdown",
   "metadata": {
    "id": "RtZVkxO8dxFy"
   },
   "source": [
    "##### Test `get_cat_levels_str`"
   ]
  },
  {
   "cell_type": "code",
   "execution_count": null,
   "metadata": {
    "id": "8EmPhvcpdxFy"
   },
   "outputs": [],
   "source": [
    "print('Your string coded levels for the categorical variable spirit_animal:')\n",
    "test_level_strings = d_test.get_cat_levels_str('spirit_animal')\n",
    "print(test_level_strings)\n",
    "print(\"and it should look like:\\n['Penguin' 'Koala' 'Frog']\")\n",
    "\n",
    "if type(test_level_strings) is not np.ndarray:\n",
    "    print('\\nYour get_cat_levels_str is not returning an ndarray but it should be.\\nDid you remember to cast your list of strings with np.array?')\n"
   ]
  },
  {
   "cell_type": "markdown",
   "metadata": {
    "id": "y4Cv6865dxFy"
   },
   "source": [
    "##### Test `get_cat_levels_int`"
   ]
  },
  {
   "cell_type": "code",
   "execution_count": null,
   "metadata": {
    "id": "eoYDwFGZdxFy"
   },
   "outputs": [],
   "source": [
    "print('Your int coded levels for the categorical variable spirit_animal:')\n",
    "test_level_ints = d_test.get_cat_levels_int('spirit_animal')\n",
    "print(test_level_ints)\n",
    "print(\"and it should look like:\\n[0 1 2]\")\n",
    "\n",
    "if not isinstance(test_level_ints, np.ndarray):\n",
    "    print('\\nYour get_cat_levels_int is not returning an ndarray but it should be.\\nDid you remember to cast your list of ints with np.array?')\n",
    "\n",
    "if test_level_ints.dtype != np.int64:\n",
    "    print('Your ndarray dtype is not int, but it should be.')"
   ]
  },
  {
   "cell_type": "markdown",
   "metadata": {
    "id": "zRhTz9FjdxFy"
   },
   "source": [
    "##### Test `int2strlevels`"
   ]
  },
  {
   "cell_type": "code",
   "execution_count": null,
   "metadata": {
    "id": "kpLMhD1AdxFz"
   },
   "outputs": [],
   "source": [
    "print('Converting your int coded levels into string coded levels for spirit_animal, we get:')\n",
    "print(d_test.int2strlevels('spirit_animal', d_test.get_cat_levels_int('spirit_animal')))\n",
    "print(\"and it should look like:\\n['Penguin', 'Koala', 'Frog']\")\n"
   ]
  },
  {
   "cell_type": "markdown",
   "metadata": {
    "id": "SY8QfnuidxFz"
   },
   "source": [
    "##### Test `str2intlevels`"
   ]
  },
  {
   "cell_type": "code",
   "execution_count": null,
   "metadata": {
    "id": "VdwUJUSjdxFz"
   },
   "outputs": [],
   "source": [
    "print('Converting your string coded levels into int coded levels for spirit_animal, we get:')\n",
    "print(d_test.str2intlevels('spirit_animal', ['Penguin', 'Koala', 'Frog']))\n",
    "print(\"and it should look like:\\n[0, 1, 2]\")"
   ]
  },
  {
   "cell_type": "markdown",
   "metadata": {
    "id": "N4BqB1SPdxFz"
   },
   "source": [
    "### 1b. Categorical data analysis technique (1/2): Counting the number of data samples that have the same categorical variable level\n",
    "\n",
    "The Austin Pet dataset has almost 200,000 samples (!) and is mostly comprised of categorical variables. A helpful way to explore such a large dataset is to compute and visualize the number of samples that have different levels of specific categorical variables of interest. For example, we can use this analysis to answer the question: *How many animals arrived to the shelter each year since 2013?*\n",
    "\n",
    "In `categorical_analysis.py` implement the `cat_count(self, header)` method in the `CatAnalysis` class.\n",
    "\n",
    "Run the below code to test your implementation.\n",
    "\n",
    "<!-- For the the `test_data_mixed.csv` dataset, use your `cat_count` implementation to compute number of samples that have each level of the variables\n",
    "- `fav_color`\n",
    "- `spirit_animal` -->\n",
    "\n",
    "You should get the following results:\n",
    "\n",
    "```\n",
    "fav_color:\n",
    "The levels are ['Purple' 'Yellow' 'Black']\n",
    "and the counts for each level are\n",
    "[4 4 1]\n",
    "spirit_animal:\n",
    "The levels are ['Penguin' 'Koala' 'Frog']\n",
    "and the counts for each level are\n",
    "[3 3 3]\n",
    "```"
   ]
  },
  {
   "cell_type": "code",
   "execution_count": null,
   "metadata": {
    "id": "Kwf8Hjz9dxFz"
   },
   "outputs": [],
   "source": [
    "from categorical_analysis import CatAnalysis"
   ]
  },
  {
   "cell_type": "code",
   "execution_count": null,
   "metadata": {
    "id": "NP9veaFxdxFz"
   },
   "outputs": [],
   "source": [
    "d_mix = CatData(filepath='data/test_data_mixed.csv')\n",
    "a_mix = CatAnalysis(d_mix)\n",
    "\n",
    "print('fav_color:')\n",
    "counts, levels = a_mix.cat_count('fav_color')\n",
    "print(f\"The levels are {levels}\\nand the counts for each level are\\n{counts}\")\n",
    "\n",
    "print('spirit_animal:')\n",
    "counts, levels = a_mix.cat_count('spirit_animal')\n",
    "print(f\"The levels are {levels}\\nand the counts for each level are\\n{counts}\")"
   ]
  },
  {
   "cell_type": "markdown",
   "metadata": {
    "id": "vnS3-qhidxFz"
   },
   "source": [
    "### 1c. Create a horizontal bar chart to plot categorical counts\n",
    "\n",
    "Run the below test code to create a horizontal bar plot of the counts you obtained for the `fav_color` categorical variable. If everything is working as expected, you should get a plot that looks like this:"
   ]
  },
  {
   "cell_type": "markdown",
   "metadata": {
    "id": "O58shtkEdxF0"
   },
   "source": [
    "![example_barchart.png](attachment:8973b1cd-bb37-4da0-9b14-c302b3651f73.png)"
   ]
  },
  {
   "cell_type": "code",
   "execution_count": null,
   "metadata": {
    "id": "KmnvhsordxF0"
   },
   "outputs": [],
   "source": [
    "import charts"
   ]
  },
  {
   "cell_type": "code",
   "execution_count": null,
   "metadata": {
    "id": "SYoI5vbbdxF0"
   },
   "outputs": [],
   "source": [
    "a_mix = CatAnalysis(d_test)\n",
    "counts, levels = a_mix.cat_count('fav_color')\n",
    "charts.sidebarplot(values=counts, labels=levels, title='fav_color counts')"
   ]
  },
  {
   "cell_type": "markdown",
   "metadata": {
    "id": "TGCaXFPNdxF0"
   },
   "source": [
    "### 1d. Test `sort` function in `charts.py`\n",
    "\n",
    "Run the below test code to make sure that the `sort` function that you wrote in Lab 2 in `charts.py` works in the following cases."
   ]
  },
  {
   "cell_type": "code",
   "execution_count": null,
   "metadata": {
    "id": "kVD5NcIzdxF0"
   },
   "outputs": [],
   "source": [
    "test_labels = np.array(['c', 'a', 'd', 'b'], dtype=str)\n",
    "test_values = np.array([20, 40, 10, 30], dtype=int)\n",
    "\n",
    "# Test sorting by value\n",
    "test_values_sort, test_labels_sort = charts.sort(test_values, test_labels, sort_by='value')\n",
    "print(f\"After sorting by value, the labels are:\\n{test_labels_sort}\\nand should be\\n['d' 'c' 'b' 'a']\\nThe values are:\\n{test_values_sort}\\nand should be\\n[10 20 30 40]\")"
   ]
  },
  {
   "cell_type": "code",
   "execution_count": null,
   "metadata": {
    "id": "wchF5jhFdxF0"
   },
   "outputs": [],
   "source": [
    "# Test sorting by label\n",
    "test_values_sort, test_labels_sort = charts.sort(test_values, test_labels, sort_by='label')\n",
    "print(f\"After sorting by value, the labels are:\\n{test_labels_sort}\\nand should be\\n['a' 'b' 'c' 'd']\\nThe values are:\\n{test_values_sort}\\nand should be\\n[40 30 20 10]\")"
   ]
  },
  {
   "cell_type": "code",
   "execution_count": null,
   "metadata": {
    "id": "F60_4MFPdxF0"
   },
   "outputs": [],
   "source": [
    "# Test no sorting\n",
    "test_values_sort, test_labels_sort = charts.sort(test_values, test_labels, sort_by='na')\n",
    "print(f\"After sorting by value, the labels are:\\n{test_labels_sort}\\nand should be\\n['c' 'a' 'd' 'b']\\nThe values are:\\n{test_values_sort}\\nand should be\\n[20 40 10 30]\")"
   ]
  },
  {
   "cell_type": "markdown",
   "metadata": {
    "id": "DOyHdmhndxF0"
   },
   "source": [
    "### 1e. Categorical data analysis technique (2/2): Filter a dataset by a categorical level\n",
    "\n",
    "This technique allows us to focus the analysis on samples that have a specific categorical level of interest. For example, how many animals arrive to the shelter who are in Sick condition?\n",
    "\n",
    "In order to perform this type of analysis, implement the following methods in your `CatData` class:\n",
    "- `reset_dataset`\n",
    "- `filter(self, header, strlevel)`\n",
    "\n",
    "The below test code filters the dataset based on the `'Purple'` level of the categorical variable `'fav_color'`, prints out the dataset, then repeats the process, but this time filtering by `'Koala'` level of the categorical variable `'spirit_animal'`.\n",
    "\n",
    "You should get something that looks like the following (*the entries are important, not the formatting*):\n",
    "\n",
    "```\n",
    "Filtering by Purple level of fav_color:\n",
    "-------------------------------\n",
    "data/test_data_mixed.csv (4x7)\n",
    "Headers:\n",
    "  age\tfav_color\tshoe_size\theight\tfav_pastime\tspirit_animal\tfav_food\n",
    "-------------------------------\n",
    "30.0\t0.0\t7.5\t160.0\t0.0\t0.0\t0.0\n",
    "25.0\t0.0\t10.5\t180.0\t0.0\t0.0\t1.0\n",
    "35.0\t0.0\t8.0\t170.0\t1.0\t2.0\t2.0\n",
    "31.0\t0.0\t11.0\t185.0\t2.0\t0.0\t1.0\n",
    "\n",
    "-------------------------------\n",
    "Filtering by Koala level of spirit_animal:\n",
    "-------------------------------\n",
    "data/test_data_mixed.csv (3x7)\n",
    "Headers:\n",
    "  age\tfav_color\tshoe_size\theight\tfav_pastime\tspirit_animal\tfav_food\n",
    "-------------------------------\n",
    "22.0\t1.0\t9.0\t175.0\t0.0\t1.0\t1.0\n",
    "28.0\t1.0\t6.5\t155.0\t1.0\t1.0\t1.0\n",
    "27.0\t1.0\t6.0\t158.0\t2.0\t1.0\t2.0\n",
    "\n",
    "-------------------------------\n",
    "```\n",
    "\n",
    "**Note:** You should reset the dataset each time before you filter. This is prevent the filters from compounding, which can be useful but is not desired here. For the remainder of your project, it would be a good idea to reset the dataset before running any analyses to prevent any filters that were applied previously from unintentionally influencing your results."
   ]
  },
  {
   "cell_type": "code",
   "execution_count": null,
   "metadata": {
    "id": "d725TitjdxF1"
   },
   "outputs": [],
   "source": [
    "d_test = CatData(filepath='data/test_data_mixed.csv')\n",
    "d_test.reset_dataset()\n",
    "d_test.filter('fav_color', 'Purple')\n",
    "print('Filtering by Purple level of fav_color:')\n",
    "print(d_test)\n",
    "d_test.reset_dataset()\n",
    "d_test.filter('spirit_animal', 'Koala')\n",
    "print('Filtering by Koala level of spirit_animal:')\n",
    "print(d_test)\n"
   ]
  },
  {
   "cell_type": "markdown",
   "metadata": {
    "id": "Qxcyfy_JdxF1"
   },
   "source": [
    "## Task 2: Exploratory data analysis of the Austin Pet dataset focusing on when do animals arrive at the shelter and in what condition\n",
    "\n",
    "Apply the toolbox of categorical data analysis techniques that you implemented to gain insight about Austin Pet dataset. Each of the following subtasks focus on a specific exploratory question related to when do animals arrive at the shelter and in what condition.\n",
    "\n",
    "For each of the following subtasks:\n",
    "1. Decide on the relevant variable(s) in the Austin Pet dataset to explore. Consult the below description for the meaning of each variable in the dataset.\n",
    "2. Decide on whether filtering should be used before computing categorical level counts to address the question.\n",
    "3. Create **ONE** \"high quality\" horizontal bar chart showing the result of your analysis (titled, labeled, etc.).\n",
    "4. In several sentences, interpret the results of your analysis in the context of the question. What insight did we gain?\n",
    "\n",
    "<!-- 2. Decide on which of the 3 analysis techniques are appropriate to address the question. In most cases, **ONE** technique should be selected, but if filtering is needed, it should be combined with one of the other two techniques. -->"
   ]
  },
  {
   "cell_type": "markdown",
   "metadata": {
    "id": "g4CIGmmYdxF1"
   },
   "source": [
    "### The Austin Pet Dataset\n",
    "\n",
    "In this project, you will perform **exploratory data analysis** on a large, complex, real-world dataset — the Austin Pet Dataset. The city of Austin, TX operates the largest \"No Kill\" animal shelter in the US and makes detailed data on each animal that enters and/or leaves publicly available. Data-driven insights that members of the community (*yourself included!*) could be used to help the animals. For example, the shelter could help improve animal care, increase adoption rates, etc. The data record goes from October 1, 2013 to present (2023).\n",
    "\n",
    "Here is the official website: https://data.austintexas.gov/Health-and-Community-Services/Austin-Animal-Center-Outcomes/9t4d-g238\n",
    "\n",
    "Here is the list of the variables (*headers*) in the dataset, along with brief descriptions:\n",
    "- **animal_id**: Unique numeric (int) ID assigned to each animal that enters the shelter (e.g. `664450`).\n",
    "- **name**: The name of the animal (e.g. `Miss Kitty`), if known.\n",
    "- **in_reason**: The reason why the animal entered the shelter (e.g. `Stray`).\n",
    "- **in_condition**: The condition of the animal at the time of arrival at the shelter (e.g. `Normal`, `Sick`).\n",
    "- **animal_type**: The type of animal (e.g. `Dog`, `Cat`).\n",
    "- **breed**: The breed of the animal (e.g. `Labrador Retriever Mix`).\n",
    "- **color**: The color of the animal (e.g. `Black/White`).\n",
    "- **in_year**: The year in which the animal entered the shelter (e.g. `2023`).\n",
    "- **in_month**: The month that the animal entered the shelter, represented as an 2 digit int (e.g. `03` for March, `11` for November).\n",
    "- **in_day**: The day on which the animal entered the shelter, represented as an 2 digit int (e.g. `01` for the first day of the month, `30` for the 30th).\n",
    "- **in_hour**: The hour of the day on which the animal entered the shelter, represented as an 2 digit int (e.g. `09` 9AM in the morning, `21` for 9PM in the evening). Because the hours are represented in 24 hour format (\"military time\"), values range from `01` to `24`.\n",
    "- **found_state**: The state in which the animal was found before coming to the shelter (`TX` or `Outside TX`).\n",
    "- **found_location**: The street (or region) on which the animal was found before coming to the shelter (`421 Thompson #2 in Austin`), if known.\n",
    "- **sex**: Could be `Male`, `Female`, `Unknown`.\n",
    "- **in_age_years**: Age of the animal upon arrival at the shelter in years. Could be a float (e.g. `0.5` for half a year old).\n",
    "- **outcome**: The reason why the animal left the shelter (e.g. `Adoption`, `Transfer`). If the value is missing, the animal could still be in the shelter.\n",
    "- **outcome_subtype**: More detailed reason why the animal left the shelter (e.g. `Rabies Risk`).\n",
    "- **out_year**: The year in which the animal left the shelter (e.g. `2023`). If the value is missing, the animal could still be in the shelter.\n",
    "- **out_month**: The month that the animal left the shelter, represented as an 2 digit int (e.g. `03` for March, `11` for November).\n",
    "- **out_day**: The day on which the animal left the shelter, represented as an 2 digit int (e.g. `01` for the first day of the month, `30` for the 30th).\n",
    "- **out_hour**: The hour of the day on which the animal left the shelter, represented as an 2 digit int (e.g. `09` 9AM in the morning, `21` for 9PM in the evening).\n",
    "- **out_age_years**: Age of the animal upon leaving the shelter in years. Could be a float (e.g. `0.5` for half a year old).\n",
    "- **dob_year**: The year in which the animal was born (e.g. `2006`).\n",
    "- **dob_month**: The year on which the animal was born, represented as an 2 digit int (e.g. `03` for March, `11` for November).\n",
    "- **dob_day**: The day on which the animal was born, represented as an 2 digit int (e.g. `01` for the first day of the month, `30` for the 30th).\n",
    "\n",
    "**Data types:** All variables EXCEPT for the following are categorical: `animal_id` (numeric), `name` (string), `found_location` (string), and `in_age_years` (numeric).\n",
    "\n",
    "**Note about missing values:** As is often the case with real-world datasets, quite a few entries in the `austin_pet.csv` file are missing. This is why you implemented support for numeric (`np.nan`) and categorical (`'Missing'` level) missing data in your `Data` class!"
   ]
  },
  {
   "cell_type": "markdown",
   "metadata": {
    "id": "HhYGcf3wdxF1"
   },
   "source": [
    "### 2a. How many animals have arrived to the shelter each year since 2013?\n",
    "\n",
    "**Reminders:**\n",
    "- Create `CatData` and `CatAnalysis` objects to work with the Austin Pet dataset (instead of `Data` and `Analysis`). *You only should create the `CatData` and `CatAnalysis` objects once for the rest of the project. It takes a few seconds to read in the Austin Pet dataset, so you do not want to do this every time you generate a plot!*\n",
    "- Start by resetting the dataset even if you are not filtering the dataset to avoid accidental effects."
   ]
  },
  {
   "cell_type": "code",
   "execution_count": null,
   "metadata": {
    "id": "G68S4PEEdxF1"
   },
   "outputs": [],
   "source": []
  },
  {
   "cell_type": "code",
   "execution_count": null,
   "metadata": {
    "id": "XR9onOJMdxF2"
   },
   "outputs": [],
   "source": []
  },
  {
   "cell_type": "markdown",
   "metadata": {
    "id": "NhC4AHxtdxF2"
   },
   "source": [
    "### 2b. How many animals arrive to the shelter at different times of the day?\n",
    "\n",
    "One problem that you will experience when plotting the counts is that the hour labels are not logically sorted. This is not very helpful! Ideally, we want the counts sorted by categorical level string labels: `01`, `02`, ..., `24`.\n",
    "\n",
    "To fix this:\n",
    "1. Add the keyword argument `sort_by='na'` to your `sidebarplot` in `charts.py`. Your function signature should look like:<br/> `sidebarplot(values, labels, title, show_counts=True, figsize=(6, 7), sort_by='na')`\n",
    "2. Call your `sort` function from within `sidebarplot` to sort the values and labels depending on value of `sort_by`. Replace the values of `values` and `labels` based on the output of `sort`.\n",
    "3. Generate your bar chart below with the categorical levels in sorted order (*i.e. sort by label*) and proceed with your interpretation of the results."
   ]
  },
  {
   "cell_type": "code",
   "execution_count": null,
   "metadata": {
    "id": "zgRxkiURdxF2"
   },
   "outputs": [],
   "source": []
  },
  {
   "cell_type": "markdown",
   "metadata": {
    "id": "mPTZMyvNdxF2"
   },
   "source": [
    "### 2c. What are the most common conditions in which animals enter the shelter?\n",
    "\n",
    "<!-- **Optional:** It might be helpful to express your counts as a percentage (i.e. each condition accounts for X percent of animals that enter). If you do this, use the [np.round](https://numpy.org/doc/stable/reference/generated/numpy.round.html) function to round the percentages to 2 decimal places (otherwise the plot will look cluttered!). -->"
   ]
  },
  {
   "cell_type": "code",
   "execution_count": null,
   "metadata": {
    "id": "CJSGXEWzdxF6"
   },
   "outputs": [],
   "source": []
  },
  {
   "cell_type": "markdown",
   "metadata": {
    "id": "HaAPHV2JdxF6"
   },
   "source": [
    "### 2d. What are the top reasons that animals enter the shelter when they arrive in Normal condition?\n",
    "\n",
    "<!-- **Optional:** It might be helpful to express your counts as a percentage. If you do this, use the [np.round](https://numpy.org/doc/stable/reference/generated/numpy.round.html) function to round the percentages to 2 decimal places (otherwise the plot will look cluttered!). -->"
   ]
  },
  {
   "cell_type": "code",
   "execution_count": null,
   "metadata": {
    "id": "-fdbAccndxF6"
   },
   "outputs": [],
   "source": []
  },
  {
   "cell_type": "markdown",
   "metadata": {
    "id": "247YSV_GdxF6"
   },
   "source": [
    "## Task 3: Exploratory data analysis of the Austin Pet dataset focusing on the factors that are associated with animal adoption\n",
    "\n",
    "Continue with the same procedure as in Task 2 (i.e. selecting variable(s), analysis technique(s), make one plot, interpret), but this time focusing on exploring the factors associated with the animal adoption outcome.\n",
    "\n",
    "**Reminder:** Start by resetting the dataset even if you are not filtering the dataset to avoid accidental effects."
   ]
  },
  {
   "cell_type": "markdown",
   "metadata": {
    "id": "ZCl8PY4PdxF6"
   },
   "source": [
    "### 3a. How many animals end up with each outcome when they leave the shelter?"
   ]
  },
  {
   "cell_type": "code",
   "execution_count": null,
   "metadata": {
    "id": "M-1hQr2vdxF7"
   },
   "outputs": [],
   "source": []
  },
  {
   "cell_type": "markdown",
   "metadata": {
    "id": "f6gjW76TdxF7"
   },
   "source": [
    "### 3b. How many animals of each type have been adopted?"
   ]
  },
  {
   "cell_type": "code",
   "execution_count": null,
   "metadata": {
    "id": "GicMnUd5dxF7"
   },
   "outputs": [],
   "source": []
  },
  {
   "cell_type": "markdown",
   "metadata": {
    "id": "l5lic5OCdxF7"
   },
   "source": [
    "## Extensions\n",
    "\n",
    "### a. AI Policy\n",
    "\n",
    "The goal of extensions is to learn and create something new beyond the base project that excites you. To serve this goal and out of fairness to your hardworking classmates, **generative AI (e.g. ChatGPT, Copilot, etc.) is strongly discouraged.** If you do use it, you should use it either at the micro scale (e.g. to better understand syntax of a particular command) or at the outline level (e.g. to get a basic idea).\n",
    "\n",
    "### b. Guidelines\n",
    "\n",
    "To receive credit for any extension, you must:\n",
    "1. **You must describe what you did and what you found in detail**.\n",
    "2. Include (*labeled!*) plots and/or numbers to present your results.\n",
    "3. Write up your extensions below or in a separate notebook.\n",
    "4. Give kudos to all sources, including anyone that you consulted.\n",
    "\n",
    "### c. Suggestions\n",
    "\n",
    "**Rule of thumb: one deep, thorough extension is worth more than several quick, shallow extensions!**\n",
    "\n",
    "The ideas below are **suggested** extensions — feel free to go in another direction related to this project that is not listed!"
   ]
  },
  {
   "cell_type": "markdown",
   "metadata": {
    "id": "L4YIo5qDdxF7"
   },
   "source": [
    "### 1. Use exploratory data analysis to gain insight about other questions that you formulate about the Austin Pet dataset\n",
    "\n",
    "Use plots to support your investigation and observations."
   ]
  },
  {
   "cell_type": "markdown",
   "metadata": {
    "id": "gihx2sNjdxF7"
   },
   "source": [
    "### 2. Use exploratory data analysis to explore your own dataset of choice"
   ]
  },
  {
   "cell_type": "markdown",
   "metadata": {
    "id": "3S83dC2qdxF7"
   },
   "source": [
    "### 3. Limit bar chart to showing top-k values\n",
    "\n",
    "Some analyses are hindered by the large number of levels in some categorical variables in the Austin Pet dataset. Add a keyword argument to `sidebarplot` to optionally limit the number of bars plotted to the top-k largest values passed in. Once this is implemented, use this functionality to address questions like what are the 10 most common breeds of dog that been adopted?"
   ]
  },
  {
   "cell_type": "markdown",
   "metadata": {
    "id": "csuwEzSrdxF7"
   },
   "source": [
    "### 4. `__str__` method\n",
    "\n",
    "Update your `__str__` method to show the string representations of categorical variable levels when you print `CatData` objects."
   ]
  },
  {
   "cell_type": "markdown",
   "metadata": {
    "id": "XuNGuDSsdxF7"
   },
   "source": [
    "### 5. Variability and visualizing error bars in bar plots\n",
    "\n",
    "- Create a `cat_var` method modeled off of `cat_mean` that computes the standard deviation of a numeric variable within categorical groups.\n",
    "- Add support for plotting error bars to show the standard deviations in `sidebarplot`.\n",
    "- Demonstrate this added functionality with one or more explorations."
   ]
  },
  {
   "cell_type": "markdown",
   "metadata": {
    "id": "AZVHTaQTdxF8"
   },
   "source": [
    "### 6. Box-and-Whisker plot\n",
    "\n",
    "Create a function that generates a box-and-whisker plot using matplotlib and make use of it in an analysis of the Austin Pet dataset."
   ]
  },
  {
   "cell_type": "markdown",
   "metadata": {
    "id": "bPVT_LhzdxF8"
   },
   "source": [
    "### 7. Count samples according to levels from two categorical levels\n",
    "\n",
    "For example, how many Dogs, Cats, and Birds left the shelter every year since 2013? This kind of question involves counting samples that have different combinations of levels from two categorical variables (`animal_type` and `out_year` in this case).\n",
    "\n",
    "Write `cat_count2` to implement support for this type of analysis.\n",
    "\n",
    "Create a new plotting function to visualize the results using a side-by-side bar chart. [Here is an example](https://matplotlib.org/stable/gallery/lines_bars_and_markers/barchart.html)."
   ]
  },
  {
   "cell_type": "markdown",
   "metadata": {
    "id": "qVl-UeigdxF8"
   },
   "source": [
    "### 8. Compute means within categorical groups\n",
    "\n",
    "Write code that computes the mean of one numeric variable's values, but only include samples that have the same level of a categorical variable. Do this for all categorical levels so that if there are `C` levels for the categorical variable of interest, we have an array of `C` means, one for each level (group).\n",
    "\n",
    "Example:\n",
    "- Column of self.data for `numeric_var1` = [4, 5, 6, 1, 2, 3]\n",
    "- Column of self.data for `cat_var1` = [0, 0, 0, 1, 1, 1]\n",
    "\n",
    "If `numeric_header` = \"numeric_var1\" and `categorical_header` = \"cat_var1\", this method should return `means` = [5, 2]. (1st entry is mean of all numeric var values with corresponding int level of 0, 2nd entry is mean of all numeric var values with corresponding int level of 1)"
   ]
  }
 ],
 "metadata": {
  "kernelspec": {
   "display_name": "Python 3",
   "language": "python",
   "name": "python3"
  },
  "language_info": {
   "codemirror_mode": {
    "name": "ipython",
    "version": 3
   },
   "file_extension": ".py",
   "mimetype": "text/x-python",
   "name": "python",
   "nbconvert_exporter": "python",
   "pygments_lexer": "ipython3",
   "version": "3.8.5"
  },
  "colab": {
   "provenance": []
  }
 },
 "nbformat": 4,
 "nbformat_minor": 0
}
