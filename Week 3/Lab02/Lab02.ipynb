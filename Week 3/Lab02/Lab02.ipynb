{
 "cells": [
  {
   "cell_type": "markdown",
   "metadata": {},
   "source": [
    "**Francis O'Hara Aidoo**\n",
    "\n",
    "CS 251: Data Analysis and Visualization"
   ]
  },
  {
   "cell_type": "markdown",
   "metadata": {},
   "source": [
    "# Lab 2 | Logical indexing and categorical data analysis\n",
    "## Task 1: Getting set up and load in the Iris dataset\n",
    "\n",
    "### 1a. Setup\n",
    "In the cell below:\n",
    "1. Import numpy\n",
    "2. Import matplotlib"
   ]
  },
  {
   "cell_type": "code",
   "metadata": {
    "ExecuteTime": {
     "end_time": "2024-09-22T16:46:56.075384Z",
     "start_time": "2024-09-22T16:46:55.017850Z"
    }
   },
   "source": [
    "# TODO: import numpy and matplotlib here\n",
    "import numpy as np\n",
    "import matplotlib.pyplot as plt\n",
    "\n",
    "plt.style.use(['seaborn-v0_8-colorblind', 'seaborn-v0_8-darkgrid'])\n",
    "plt.rcParams['font.size'] = 15\n",
    "plt.rcParams[\"figure.figsize\"] = [12,4.5]\n",
    "\n",
    "np.set_printoptions(suppress=True, precision=5)\n",
    "\n",
    "# Automatically reload external modules\n",
    "%load_ext autoreload\n",
    "%autoreload 2"
   ],
   "outputs": [],
   "execution_count": 1
  },
  {
   "cell_type": "markdown",
   "metadata": {},
   "source": [
    "### 1b. Load in the Iris dataset\n",
    "\n",
    "1. Read the Iris dataset from `data/iris.csv` using [numpy.genfromtxt](https://numpy.org/doc/1.18/reference/generated/numpy.genfromtxt.html) into a numpy ndarray with 5 columns.\n",
    "    - The columns correspond to the usual Iris variables:<br/>0:`sepal_length`, 1:`sepal_width`, 2:`petal_length`, 3:`petal_width`, and 4:`species`.\n",
    "    - This version of the Iris dataset has the `species` categorical variable (last column) levels coded as ints<br/>0 for `'setosa'`, 1 for `'versicolor'`, and 2 for `'virginica'`.\n",
    "    - The list of the iris variables and the `cat2levels` dictionary that maps between int-coded and string-coded levels are provided below.\n",
    "3. Print out the 1st 5 rows and the shape. The 1st 5 rows should match the 1st 5 rows of `data/iris.csv` (*open up the file and verify!*). The shape should be `(150, 5)`."
   ]
  },
  {
   "cell_type": "code",
   "metadata": {
    "ExecuteTime": {
     "end_time": "2024-09-22T16:46:56.141929Z",
     "start_time": "2024-09-22T16:46:56.105196Z"
    }
   },
   "source": [
    "# KEEP ME\n",
    "iris_vars = ['sepal_length', 'sepal_width', 'petal_length', 'petal_width', 'species']\n",
    "cat2levels = {'species': ['setosa', 'versicolor', 'virginica']}\n",
    "\n",
    "iris_data = np.genfromtxt(\"./data/iris.csv\", delimiter=\",\")"
   ],
   "outputs": [],
   "execution_count": 2
  },
  {
   "cell_type": "markdown",
   "metadata": {},
   "source": [
    "## Task 2: Logical indexing\n",
    "\n",
    "In this task, you will practice NumPy's powerful **logical indexing** technique to select data based on a specific categorical data value."
   ]
  },
  {
   "cell_type": "markdown",
   "metadata": {},
   "source": [
    "### 2a. Use logical indexing to count the number of 0 values in an 1D ndarray\n",
    "\n",
    "\n",
    "In one line of code, use logical indexing to count and print the number of 0s in `test_data`, which contains 1D fake data with `N=100` samples. You should get a count of `20` 0s.\n",
    "\n",
    "This involves creating a **1D boolean (logical) array** by comparing your data array with a single (scalar) value using the `==` operator. For example: <br/>`my_data_array == single_value`<br/>The result of this operation is the logical array that has the same length as the original data array (100 in the case of `test_data` below): an entry is `True` (1) if the i-th value matches your desired value (e.g. `0`) or `False` (0) if the i-th value does not. The count can be computed by summing up the logical array.<br/><br/>**Note:** You should not use any loops!"
   ]
  },
  {
   "cell_type": "code",
   "metadata": {
    "ExecuteTime": {
     "end_time": "2024-09-22T16:46:56.194474Z",
     "start_time": "2024-09-22T16:46:56.158874Z"
    }
   },
   "source": [
    "# KEEP ME\n",
    "test_data = np.array([1, 0, 1, 4, 1, 4, 0, 2, 4, 4, 3, 2, 1, 0, 3, 4, 1, 4, 2, 4, 2, 4,\n",
    "       0, 0, 3, 1, 2, 2, 4, 2, 0, 2, 0, 4, 0, 3, 2, 3, 4, 4, 4, 4, 1, 3,\n",
    "       2, 3, 1, 3, 1, 1, 1, 0, 1, 4, 4, 0, 0, 2, 1, 4, 1, 3, 3, 1, 3, 2,\n",
    "       1, 0, 4, 1, 1, 1, 0, 0, 3, 0, 2, 2, 4, 0, 2, 2, 4, 4, 2, 3, 2, 1,\n",
    "       0, 2, 2, 1, 1, 1, 4, 0, 0, 1, 0, 4])\n",
    "\n",
    "print(f\"Number of Zeros: {sum(test_data == 0)}\")"
   ],
   "outputs": [
    {
     "name": "stdout",
     "output_type": "stream",
     "text": [
      "Number of Zeros: 20\n"
     ]
    }
   ],
   "execution_count": 3
  },
  {
   "cell_type": "markdown",
   "metadata": {},
   "source": [
    "### 2b. Use logical indexing to count the number of samples that belong to the each of the 3 iris species\n",
    "\n",
    "1. Create a ndarray filled with 3 zeros. This array will store the number of samples that belong to each of the 3 iris species (remember: they are int-coded as `0`, `1`, and `2`).\n",
    "2. In only 1 line of code per species (**at most** 3 lines total), compute the counts for each species using logical indexing and assign the count to the appropriate index of your length 3 ndarray. In this case, the logical array has entries of `True` (1) if the `species` categorical variable value of a sample has the desired level (e.g. `0` if we are counting `setosa` iris species) or `False` (0) if the sample does not.\n",
    "3. Print out your counts for the 3 iris species. You should get `[50. 50. 50.].`"
   ]
  },
  {
   "cell_type": "code",
   "metadata": {
    "ExecuteTime": {
     "end_time": "2024-09-22T16:46:57.391579Z",
     "start_time": "2024-09-22T16:46:56.612035Z"
    }
   },
   "source": [
    "species_count = np.zeros((3,))\n",
    "species_count[0] = sum(iris_data[:, 4] == 0)\n",
    "species_count[1] = sum(iris_data[:, 4] == 1)\n",
    "species_count[2] = sum(iris_data[:, 4] == 2)\n",
    "\n",
    "print(species_count)"
   ],
   "outputs": [
    {
     "name": "stdout",
     "output_type": "stream",
     "text": [
      "[50. 50. 50.]\n"
     ]
    }
   ],
   "execution_count": 4
  },
  {
   "cell_type": "markdown",
   "metadata": {},
   "source": [
    "### 2c. Use logical indexing to select the petal lengths of only the versicolor iris species\n",
    "\n",
    "1. Similar to what you did in Task 2b, create a 1D logical array that indicates whether samples belong to the `'versicolor'` iris species (int-coded as `1`).\n",
    "2. Index into the original iris dataset 2D ndarray, plugging in the logical array as the ROWS (instead of typing :). For the COLUMN, select the column index (an int) that is appropriate for the variable we are interested in (`petal_length`).\n",
    "3. Print out the result. There should be `50` float values. What is the meaning of these values?"
   ]
  },
  {
   "cell_type": "code",
   "metadata": {
    "ExecuteTime": {
     "end_time": "2024-09-22T16:46:57.660525Z",
     "start_time": "2024-09-22T16:46:57.633317Z"
    }
   },
   "source": [
    "versicolor_petal_lengths = iris_data[:,2][iris_data[:,4] == 1]\n",
    "print(versicolor_petal_lengths)"
   ],
   "outputs": [
    {
     "name": "stdout",
     "output_type": "stream",
     "text": [
      "[4.7 4.5 4.9 4.  4.6 4.5 4.7 3.3 4.6 3.9 3.5 4.2 4.  4.7 3.6 4.4 4.5 4.1\n",
      " 4.5 3.9 4.8 4.  4.9 4.7 4.3 4.4 4.8 5.  4.5 3.5 3.8 3.7 3.9 5.1 4.5 4.5\n",
      " 4.7 4.4 4.1 4.  4.4 4.6 4.  3.3 4.2 4.2 4.2 4.3 3.  4.1]\n"
     ]
    }
   ],
   "execution_count": 5
  },
  {
   "cell_type": "markdown",
   "metadata": {},
   "source": [
    "The above float values are the petal lengths of all the samples in the dataset whose species is 'versicolor'."
   ]
  },
  {
   "cell_type": "markdown",
   "metadata": {},
   "source": [
    "### 2d. Use logical indexing to filter the dataset\n",
    "\n",
    "Index into the original data array and plug in the same logical array from Task 2c for the ROWS, but this time omit/do NOT specify any COLUMN. Print out and interpret what you get."
   ]
  },
  {
   "cell_type": "code",
   "metadata": {
    "ExecuteTime": {
     "end_time": "2024-09-22T16:46:57.876063Z",
     "start_time": "2024-09-22T16:46:57.850954Z"
    }
   },
   "source": [
    "filtered_data = iris_data[iris_data[:, 4] == 1]\n",
    "print(filtered_data)"
   ],
   "outputs": [
    {
     "name": "stdout",
     "output_type": "stream",
     "text": [
      "[[7.  3.2 4.7 1.4 1. ]\n",
      " [6.4 3.2 4.5 1.5 1. ]\n",
      " [6.9 3.1 4.9 1.5 1. ]\n",
      " [5.5 2.3 4.  1.3 1. ]\n",
      " [6.5 2.8 4.6 1.5 1. ]\n",
      " [5.7 2.8 4.5 1.3 1. ]\n",
      " [6.3 3.3 4.7 1.6 1. ]\n",
      " [4.9 2.4 3.3 1.  1. ]\n",
      " [6.6 2.9 4.6 1.3 1. ]\n",
      " [5.2 2.7 3.9 1.4 1. ]\n",
      " [5.  2.  3.5 1.  1. ]\n",
      " [5.9 3.  4.2 1.5 1. ]\n",
      " [6.  2.2 4.  1.  1. ]\n",
      " [6.1 2.9 4.7 1.4 1. ]\n",
      " [5.6 2.9 3.6 1.3 1. ]\n",
      " [6.7 3.1 4.4 1.4 1. ]\n",
      " [5.6 3.  4.5 1.5 1. ]\n",
      " [5.8 2.7 4.1 1.  1. ]\n",
      " [6.2 2.2 4.5 1.5 1. ]\n",
      " [5.6 2.5 3.9 1.1 1. ]\n",
      " [5.9 3.2 4.8 1.8 1. ]\n",
      " [6.1 2.8 4.  1.3 1. ]\n",
      " [6.3 2.5 4.9 1.5 1. ]\n",
      " [6.1 2.8 4.7 1.2 1. ]\n",
      " [6.4 2.9 4.3 1.3 1. ]\n",
      " [6.6 3.  4.4 1.4 1. ]\n",
      " [6.8 2.8 4.8 1.4 1. ]\n",
      " [6.7 3.  5.  1.7 1. ]\n",
      " [6.  2.9 4.5 1.5 1. ]\n",
      " [5.7 2.6 3.5 1.  1. ]\n",
      " [5.5 2.4 3.8 1.1 1. ]\n",
      " [5.5 2.4 3.7 1.  1. ]\n",
      " [5.8 2.7 3.9 1.2 1. ]\n",
      " [6.  2.7 5.1 1.6 1. ]\n",
      " [5.4 3.  4.5 1.5 1. ]\n",
      " [6.  3.4 4.5 1.6 1. ]\n",
      " [6.7 3.1 4.7 1.5 1. ]\n",
      " [6.3 2.3 4.4 1.3 1. ]\n",
      " [5.6 3.  4.1 1.3 1. ]\n",
      " [5.5 2.5 4.  1.3 1. ]\n",
      " [5.5 2.6 4.4 1.2 1. ]\n",
      " [6.1 3.  4.6 1.4 1. ]\n",
      " [5.8 2.6 4.  1.2 1. ]\n",
      " [5.  2.3 3.3 1.  1. ]\n",
      " [5.6 2.7 4.2 1.3 1. ]\n",
      " [5.7 3.  4.2 1.2 1. ]\n",
      " [5.7 2.9 4.2 1.3 1. ]\n",
      " [6.2 2.9 4.3 1.3 1. ]\n",
      " [5.1 2.5 3.  1.1 1. ]\n",
      " [5.7 2.8 4.1 1.3 1. ]]\n"
     ]
    }
   ],
   "execution_count": 6
  },
  {
   "cell_type": "markdown",
   "metadata": {},
   "source": [
    "The above is the data for all the samples in the dataset whose species is 'versicolor'."
   ]
  },
  {
   "cell_type": "markdown",
   "metadata": {},
   "source": [
    "### 2e. Use logical indexing to compute the mean petal length for each of the 3 iris species\n",
    "\n",
    "1. Create a ndarray named `means` filled with 3 zeros. This array will store the mean petal length of each of the 3 iris species.\n",
    "2. Adapt what you did in Task 2c to fill in the mean petal length of each species using logical indexing. You should only write 1 line of code per species (**at most 3 lines of code for computing means, no loops!!**).\n",
    "\n",
    "You should get: `[1.462 4.26  5.552]`"
   ]
  },
  {
   "cell_type": "code",
   "metadata": {
    "ExecuteTime": {
     "end_time": "2024-09-22T16:46:57.947623Z",
     "start_time": "2024-09-22T16:46:57.920416Z"
    }
   },
   "source": [
    "means = np.zeros((3,))\n",
    "\n",
    "means[0] = iris_data[:,2][iris_data[:,4] == 0].mean()\n",
    "means[1] = iris_data[:,2][iris_data[:,4] == 1].mean()\n",
    "means[2] = iris_data[:,2][iris_data[:,4] == 2].mean()\n",
    "\n",
    "print(means)"
   ],
   "outputs": [
    {
     "name": "stdout",
     "output_type": "stream",
     "text": [
      "[1.462 4.26  5.552]\n"
     ]
    }
   ],
   "execution_count": 7
  },
  {
   "cell_type": "markdown",
   "metadata": {},
   "source": [
    "### 2f. Create a horizontal bar chart plotting the mean of the petal length of the 3 iris species\n",
    "\n",
    "Your goal is to make a bar chart with 3 bars, one for each species of iris, showing the mean petal length of each species. Your bars should extend **horizontally**, as is common for plotting categorical data. You should use [plt.barh](https://matplotlib.org/stable/api/_as_gen/matplotlib.pyplot.barh.html). See an [example plot here](https://pandas.pydata.org/docs/_images/pandas-DataFrame-plot-barh-1.png). For the `y` parameter, you can plug in a list or array indicating the 3 y values next to which you want to draw each bar (e.g. [0, 1, 2])\n",
    "\n",
    "Your plot should have:\n",
    "- A title.\n",
    "- x and y axis labels.\n",
    "- Categorical levels (string-coded) should be labeled on the y axis. To do this, use [plt.yticks](https://matplotlib.org/stable/api/_as_gen/matplotlib.pyplot.yticks.html), but plug in both the `ticks` and `labels` keyword arguments. For `ticks`, you can plug in the same `y` values you used in your `plt.barh` call."
   ]
  },
  {
   "cell_type": "code",
   "metadata": {
    "ExecuteTime": {
     "end_time": "2024-09-22T16:46:58.305700Z",
     "start_time": "2024-09-22T16:46:57.996925Z"
    }
   },
   "source": [
    "plt.barh(cat2levels[\"species\"], means)\n",
    "plt.title(\"Mean petal length by species\")\n",
    "plt.ylabel(\"Iris Species\")\n",
    "plt.xlabel(\"Mean Petal Length\")\n",
    "plt.show()"
   ],
   "outputs": [
    {
     "data": {
      "text/plain": [
       "<Figure size 1200x450 with 1 Axes>"
      ],
      "image/png": "[encoded data removed]"
     },
     "metadata": {},
     "output_type": "display_data"
    }
   ],
   "execution_count": 8
  },
  {
   "cell_type": "markdown",
   "metadata": {},
   "source": [
    "### 2g. Adapt your horizontal bar chart code for `sidebarplot` in `charts.py`\n",
    "\n",
    "Open `charts.py` in a text editor and copy-paste the code that you wrote from the previous task into `sidebarplot`.\n",
    "\n",
    "Adapt your code to make use of the function parameters instead of hard-coded values for Iris. This includes replacing `y=[0, 1, 2]` with a list of ints generated by `np.arange` without hard-coding the upper limit plugged in.\n",
    "\n",
    "Running the following code should generate the same plot as you got in Task 2f above except:\n",
    "- no x-axis and y-axis label, but this is ok and expected\n",
    "- the mean value displayed next to each bar\n",
    "\n",
    "**Note:** You will be using `charts.py` function in Project 2."
   ]
  },
  {
   "cell_type": "code",
   "metadata": {
    "ExecuteTime": {
     "end_time": "2024-09-22T16:46:58.365501Z",
     "start_time": "2024-09-22T16:46:58.333372Z"
    }
   },
   "source": [
    "import charts"
   ],
   "outputs": [],
   "execution_count": 9
  },
  {
   "cell_type": "code",
   "metadata": {
    "ExecuteTime": {
     "end_time": "2024-09-22T16:46:58.588487Z",
     "start_time": "2024-09-22T16:46:58.397889Z"
    }
   },
   "source": [
    "charts.sidebarplot(values=means, labels=cat2levels['species'], title='Mean petal length by species', figsize=(12, 4.5))"
   ],
   "outputs": [
    {
     "data": {
      "text/plain": [
       "<Figure size 1200x450 with 1 Axes>"
      ],
      "image/png": "[encoded data removed]"
     },
     "metadata": {},
     "output_type": "display_data"
    }
   ],
   "execution_count": 10
  },
  {
   "cell_type": "markdown",
   "metadata": {},
   "source": [
    "## Task 3: Sorting two corresponding arrays\n",
    "\n",
    "Let's say that we have two arrays whose corresponding values \"go together\". For example, in the `colors` and `years` arrays below, 'Emerald' is associated with 2020 (i.e. 'Emerald' was the color in 2020), 'Dandelion' is associated with 2022 (i.e. 'Dandelion' was the color in 2022), and so on.\n",
    "\n",
    "A common situation that arises in Project 2 and data analysis more broadly is that we want to present one array in a certain order and we want to make sure values in the other array still match up after sorting. For example, maybe we would like to present the colors in chronological order ('Emerald' on 2020, 'Crimson' on 2021, etc.) or maybe we want to present the colors in alphabetical order ('Amber', 'Blue', etc.). The problem is that we cannot simply sort one array because that would leave the other array \"out of sync.\"\n",
    "\n",
    "Write code under the subtasks below that sorts the `colors` and `years` arrays in the desired order. There are multiple ways to solve this problem. One way involves [np.argsort](https://numpy.org/doc/stable/reference/generated/numpy.argsort.html)."
   ]
  },
  {
   "cell_type": "code",
   "metadata": {
    "ExecuteTime": {
     "end_time": "2024-09-22T16:46:58.671027Z",
     "start_time": "2024-09-22T16:46:58.642292Z"
    }
   },
   "source": [
    "colors = np.array(['Emerald', 'Dandelion', 'Crimson', 'Blue', 'Amber'])\n",
    "years = np.array([2020, 2022, 2021, 2024, 2023])"
   ],
   "outputs": [],
   "execution_count": 11
  },
  {
   "cell_type": "markdown",
   "metadata": {},
   "source": [
    "### 3a. Sort by colors\n",
    "\n",
    "Sort both arrays so that the colors appear in alphabetical order.\n",
    "\n",
    "You should get:\n",
    "```\n",
    "['Amber' 'Blue' 'Crimson' 'Dandelion' 'Emerald']\n",
    "[2023 2024 2021 2022 2020]\n",
    "```"
   ]
  },
  {
   "cell_type": "code",
   "metadata": {
    "ExecuteTime": {
     "end_time": "2024-09-22T16:46:58.731361Z",
     "start_time": "2024-09-22T16:46:58.701575Z"
    }
   },
   "source": [
    "sorted_order = np.argsort(colors)\n",
    "print(colors[sorted_order])\n",
    "print(years[sorted_order])"
   ],
   "outputs": [
    {
     "name": "stdout",
     "output_type": "stream",
     "text": [
      "['Amber' 'Blue' 'Crimson' 'Dandelion' 'Emerald']\n",
      "[2023 2024 2021 2022 2020]\n"
     ]
    }
   ],
   "execution_count": 12
  },
  {
   "cell_type": "markdown",
   "metadata": {},
   "source": [
    "### 3b. Sort by year\n",
    "\n",
    "Sort both arrays so that the years appear in chronological order.\n",
    "\n",
    "You should get:\n",
    "```\n",
    "['Emerald' 'Crimson' 'Dandelion' 'Amber' 'Blue']\n",
    "[2020 2021 2022 2023 2024]\n",
    "```"
   ]
  },
  {
   "cell_type": "code",
   "metadata": {
    "ExecuteTime": {
     "end_time": "2024-09-22T16:46:58.862764Z",
     "start_time": "2024-09-22T16:46:58.831035Z"
    }
   },
   "source": [
    "sorted_order = np.argsort(years)\n",
    "print(colors[sorted_order])\n",
    "print(years[sorted_order])"
   ],
   "outputs": [
    {
     "name": "stdout",
     "output_type": "stream",
     "text": [
      "['Emerald' 'Crimson' 'Dandelion' 'Amber' 'Blue']\n",
      "[2020 2021 2022 2023 2024]\n"
     ]
    }
   ],
   "execution_count": 13
  },
  {
   "cell_type": "markdown",
   "metadata": {},
   "source": [
    "### 3c. Adapt your sorting code for `sort` in `charts.py`\n",
    "\n",
    "Copy-paste the code that you wrote above into the `sort` function in `charts.py`.\n",
    "\n",
    "Adapt your code to make use of the function parameters instead of hard-coded values. Use the keyword argument `sort_by` to determine if you should:\n",
    "- NOT sort the two arrays at all (`sort='na'`)\n",
    "- sort the arrays based on the `values` array (the 1st array).\n",
    "- sort the arrays based on the `label` array (the 2nd array).\n",
    "\n",
    "Run the following test code to check your implementation."
   ]
  },
  {
   "cell_type": "code",
   "metadata": {
    "ExecuteTime": {
     "end_time": "2024-09-22T16:46:58.969646Z",
     "start_time": "2024-09-22T16:46:58.938006Z"
    }
   },
   "source": [
    "# Test sorting by value\n",
    "test_values_sort, test_labels_sort = charts.sort(values=colors, labels=years, sort_by='value')\n",
    "print(f\"After sorting by value, the labels are:\\n{test_labels_sort}\\nand should be\\n[2023 2024 2021 2022 2020]\\nThe values are:\\n{test_values_sort}\\nand should be\\n['Amber' 'Blue' 'Crimson' 'Dandelion' 'Emerald']\")"
   ],
   "outputs": [
    {
     "name": "stdout",
     "output_type": "stream",
     "text": [
      "After sorting by value, the labels are:\n",
      "[2023 2024 2021 2022 2020]\n",
      "and should be\n",
      "[2023 2024 2021 2022 2020]\n",
      "The values are:\n",
      "['Amber' 'Blue' 'Crimson' 'Dandelion' 'Emerald']\n",
      "and should be\n",
      "['Amber' 'Blue' 'Crimson' 'Dandelion' 'Emerald']\n"
     ]
    }
   ],
   "execution_count": 14
  },
  {
   "cell_type": "code",
   "metadata": {
    "ExecuteTime": {
     "end_time": "2024-09-22T16:46:59.050612Z",
     "start_time": "2024-09-22T16:46:59.019325Z"
    }
   },
   "source": [
    "# Test sorting by label\n",
    "test_values_sort, test_labels_sort = charts.sort(values=colors, labels=years, sort_by='label')\n",
    "print(f\"After sorting by value, the labels are:\\n{test_labels_sort}\\nand should be\\n[2020 2021 2022 2023 2024]\\nThe values are:\\n{test_values_sort}\\nand should be\\n['Emerald' 'Crimson' 'Dandelion' 'Amber' 'Blue']\")"
   ],
   "outputs": [
    {
     "name": "stdout",
     "output_type": "stream",
     "text": [
      "After sorting by value, the labels are:\n",
      "[2020 2021 2022 2023 2024]\n",
      "and should be\n",
      "[2020 2021 2022 2023 2024]\n",
      "The values are:\n",
      "['Emerald' 'Crimson' 'Dandelion' 'Amber' 'Blue']\n",
      "and should be\n",
      "['Emerald' 'Crimson' 'Dandelion' 'Amber' 'Blue']\n"
     ]
    }
   ],
   "execution_count": 15
  },
  {
   "cell_type": "code",
   "metadata": {
    "ExecuteTime": {
     "end_time": "2024-09-22T16:46:59.210544Z",
     "start_time": "2024-09-22T16:46:59.180883Z"
    }
   },
   "source": [
    "# Test no sorting\n",
    "test_values_sort, test_labels_sort = charts.sort(values=colors, labels=years, sort_by='na')\n",
    "print(f\"After sorting by value, the labels are:\\n{test_labels_sort}\\nand should be\\n[2020 2022 2021 2024 2023]\\nThe values are:\\n{test_values_sort}\\nand should be\\n['Emerald' 'Dandelion' 'Crimson' 'Blue' 'Amber']\")"
   ],
   "outputs": [
    {
     "name": "stdout",
     "output_type": "stream",
     "text": [
      "After sorting by value, the labels are:\n",
      "[2020 2022 2021 2024 2023]\n",
      "and should be\n",
      "[2020 2022 2021 2024 2023]\n",
      "The values are:\n",
      "['Emerald' 'Dandelion' 'Crimson' 'Blue' 'Amber']\n",
      "and should be\n",
      "['Emerald' 'Dandelion' 'Crimson' 'Blue' 'Amber']\n"
     ]
    }
   ],
   "execution_count": 16
  },
  {
   "cell_type": "markdown",
   "metadata": {},
   "source": [
    "## Turn in your lab\n",
    "\n",
    "Follow the usual submission format and submit your lab on Google Classroom."
   ]
  }
 ],
 "metadata": {
  "kernelspec": {
   "display_name": "Python 3 (ipykernel)",
   "language": "python",
   "name": "python3"
  },
  "language_info": {
   "codemirror_mode": {
    "name": "ipython",
    "version": 3
   },
   "file_extension": ".py",
   "mimetype": "text/x-python",
   "name": "python",
   "nbconvert_exporter": "python",
   "pygments_lexer": "ipython3",
   "version": "3.11.5"
  }
 },
 "nbformat": 4,
 "nbformat_minor": 4
}
